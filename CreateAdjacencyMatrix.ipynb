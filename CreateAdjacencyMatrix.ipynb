{
 "cells": [
  {
   "cell_type": "code",
   "execution_count": 72,
   "metadata": {},
   "outputs": [
    {
     "name": "stdout",
     "output_type": "stream",
     "text": [
      "151\n"
     ]
    }
   ],
   "source": [
    "EdgeList = open(\"Graph1.net\")\n",
    "\n",
    "Nodes = int(EdgeList.readline().split()[1])\n",
    "\n",
    "print(Nodes)\n",
    "\n",
    "AdjacencyList = []\n",
    "\n",
    "for x in range(Nodes): #make the matrix\n",
    "    mylist = []\n",
    "    for x in range(Nodes):\n",
    "        mylist.append(False) #fill matrix with false\n",
    "    AdjacencyList.append(mylist)\n",
    "    \n",
    "Edges = int(EdgeList.readline().split()[1])\n",
    "\n",
    "for aLine in EdgeList: #iterate through file and fill the matrix accrodingly \n",
    "    node1 = int(aLine.split()[0])\n",
    "    node2 = int(aLine.split()[1])\n",
    "    AdjacencyList[node1][node2]= True\n",
    "    AdjacencyList[node2][node1]= True #graph is unidirectional\n"
   ]
  },
  {
   "cell_type": "code",
   "execution_count": 75,
   "metadata": {},
   "outputs": [
    {
     "name": "stdout",
     "output_type": "stream",
     "text": [
      "Size of Adjacency Matrix: 151 x 151\n",
      "File Read and Upload works\n"
     ]
    }
   ],
   "source": [
    "print(\"Size of Adjacency Matrix:\", len(AdjacencyList), \"x\", len(AdjacencyList[0])) # testing if the size of the array is as expected\n",
    "\n",
    "#print(AdjacencyList)\n",
    "\n",
    "if AdjacencyList[0][101]==True and AdjacencyList[101][0]==True:\n",
    "    print(\"File Read and Upload works\")"
   ]
  },
  {
   "cell_type": "code",
   "execution_count": null,
   "metadata": {},
   "outputs": [],
   "source": []
  }
 ],
 "metadata": {
  "kernelspec": {
   "display_name": "Python 3",
   "language": "python",
   "name": "python3"
  },
  "language_info": {
   "codemirror_mode": {
    "name": "ipython",
    "version": 3
   },
   "file_extension": ".py",
   "mimetype": "text/x-python",
   "name": "python",
   "nbconvert_exporter": "python",
   "pygments_lexer": "ipython3",
   "version": "3.6.8"
  }
 },
 "nbformat": 4,
 "nbformat_minor": 2
}
